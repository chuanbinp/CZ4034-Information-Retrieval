{
 "cells": [
  {
   "cell_type": "code",
   "execution_count": 1,
   "metadata": {},
   "outputs": [
    {
     "name": "stdout",
     "output_type": "stream",
     "text": [
      "Requirement already satisfied: nltk in c:\\users\\phoec\\anaconda3\\lib\\site-packages (3.4.5)\n",
      "Requirement already satisfied: six in c:\\users\\phoec\\anaconda3\\lib\\site-packages (from nltk) (1.15.0)\n",
      "Note: you may need to restart the kernel to use updated packages.\n"
     ]
    }
   ],
   "source": [
    "pip install nltk"
   ]
  },
  {
   "cell_type": "code",
   "execution_count": 2,
   "metadata": {},
   "outputs": [
    {
     "name": "stdout",
     "output_type": "stream",
     "text": [
      "Collecting sklearn\n",
      "  Downloading sklearn-0.0.tar.gz (1.1 kB)\n",
      "Requirement already satisfied: scikit-learn in c:\\users\\phoec\\anaconda3\\lib\\site-packages (from sklearn) (0.22.1)\n",
      "Requirement already satisfied: joblib>=0.11 in c:\\users\\phoec\\anaconda3\\lib\\site-packages (from scikit-learn->sklearn) (0.14.1)\n",
      "Requirement already satisfied: scipy>=0.17.0 in c:\\users\\phoec\\anaconda3\\lib\\site-packages (from scikit-learn->sklearn) (1.4.1)\n",
      "Requirement already satisfied: numpy>=1.11.0 in c:\\users\\phoec\\anaconda3\\lib\\site-packages (from scikit-learn->sklearn) (1.18.4)\n",
      "Building wheels for collected packages: sklearn\n",
      "  Building wheel for sklearn (setup.py): started\n",
      "  Building wheel for sklearn (setup.py): finished with status 'done'\n",
      "  Created wheel for sklearn: filename=sklearn-0.0-py2.py3-none-any.whl size=1320 sha256=623d065dfca2e759adeab9d824ca3309803925fbe63bdc8db9b11b57c4d3b13c\n",
      "  Stored in directory: c:\\users\\phoec\\appdata\\local\\pip\\cache\\wheels\\46\\ef\\c3\\157e41f5ee1372d1be90b09f74f82b10e391eaacca8f22d33e\n",
      "Successfully built sklearn\n",
      "Installing collected packages: sklearn\n",
      "Successfully installed sklearn-0.0\n",
      "Note: you may need to restart the kernel to use updated packages.\n"
     ]
    }
   ],
   "source": [
    "pip install sklearn"
   ]
  },
  {
   "cell_type": "code",
   "execution_count": 3,
   "metadata": {},
   "outputs": [
    {
     "name": "stdout",
     "output_type": "stream",
     "text": [
      "Collecting scikit-learn\n",
      "  Downloading scikit_learn-0.24.1-cp37-cp37m-win_amd64.whl (6.8 MB)\n",
      "Requirement already satisfied, skipping upgrade: scipy>=0.19.1 in c:\\users\\phoec\\anaconda3\\lib\\site-packages (from scikit-learn) (1.4.1)\n",
      "Requirement already satisfied, skipping upgrade: joblib>=0.11 in c:\\users\\phoec\\anaconda3\\lib\\site-packages (from scikit-learn) (0.14.1)\n",
      "Collecting threadpoolctl>=2.0.0\n",
      "  Downloading threadpoolctl-2.1.0-py3-none-any.whl (12 kB)\n",
      "Requirement already satisfied, skipping upgrade: numpy>=1.13.3 in c:\\users\\phoec\\anaconda3\\lib\\site-packages (from scikit-learn) (1.18.4)\n",
      "Installing collected packages: threadpoolctl, scikit-learn\n",
      "  Attempting uninstall: scikit-learn\n",
      "    Found existing installation: scikit-learn 0.22.1\n",
      "    Uninstalling scikit-learn-0.22.1:\n",
      "      Successfully uninstalled scikit-learn-0.22.1\n",
      "Successfully installed scikit-learn-0.24.1 threadpoolctl-2.1.0\n",
      "Note: you may need to restart the kernel to use updated packages.\n"
     ]
    }
   ],
   "source": [
    "pip install -U scikit-learn"
   ]
  },
  {
   "cell_type": "code",
   "execution_count": 4,
   "metadata": {},
   "outputs": [],
   "source": [
    "%load_ext autoreload\n",
    "%autoreload 2"
   ]
  },
  {
   "cell_type": "code",
   "execution_count": 5,
   "metadata": {},
   "outputs": [
    {
     "name": "stderr",
     "output_type": "stream",
     "text": [
      "[nltk_data] Downloading package stopwords to\n",
      "[nltk_data]     C:\\Users\\phoec\\AppData\\Roaming\\nltk_data...\n",
      "[nltk_data]   Unzipping corpora\\stopwords.zip.\n",
      "[nltk_data] Downloading package punkt to\n",
      "[nltk_data]     C:\\Users\\phoec\\AppData\\Roaming\\nltk_data...\n",
      "[nltk_data]   Unzipping tokenizers\\punkt.zip.\n",
      "[nltk_data] Downloading package vader_lexicon to\n",
      "[nltk_data]     C:\\Users\\phoec\\AppData\\Roaming\\nltk_data...\n"
     ]
    },
    {
     "data": {
      "text/plain": [
       "True"
      ]
     },
     "execution_count": 5,
     "metadata": {},
     "output_type": "execute_result"
    }
   ],
   "source": [
    "import nltk\n",
    "nltk.download('stopwords')\n",
    "nltk.download('punkt')\n",
    "nltk.download('vader_lexicon')"
   ]
  },
  {
   "cell_type": "code",
   "execution_count": 8,
   "metadata": {},
   "outputs": [
    {
     "name": "stdout",
     "output_type": "stream",
     "text": [
      "0.24.1\n"
     ]
    }
   ],
   "source": [
    "import pandas as pd\n",
    "import numpy as np\n",
    "import matplotlib.pyplot as plt\n",
    "import seaborn as sns\n",
    "import os\n",
    "\n",
    "from nltk.tokenize import RegexpTokenizer\n",
    "from nltk.stem.snowball import SnowballStemmer\n",
    "from nltk import word_tokenize, sent_tokenize\n",
    "from nltk.corpus import stopwords\n",
    "from nltk.stem import LancasterStemmer, WordNetLemmatizer, PorterStemmer\n",
    "from nltk.sentiment.vader import SentimentIntensityAnalyzer\n",
    "from sklearn.model_selection import train_test_split,cross_val_score\n",
    "from sklearn.feature_extraction.text import CountVectorizer\n",
    "from sklearn.feature_extraction.text import TfidfVectorizer\n",
    "from sklearn.naive_bayes import MultinomialNB\n",
    "from sklearn.neighbors import KNeighborsClassifier\n",
    "from sklearn.linear_model import LogisticRegression\n",
    "from sklearn.ensemble import RandomForestClassifier\n",
    "from sklearn.svm import LinearSVC\n",
    "from sklearn.tree import DecisionTreeClassifier\n",
    "from sklearn import tree\n",
    "from sklearn import metrics\n",
    "from sklearn.metrics import accuracy_score,confusion_matrix,classification_report\n",
    "from sklearn.model_selection import RandomizedSearchCV\n",
    "from scipy.stats import uniform\n",
    "from sklearn.ensemble import GradientBoostingClassifier\n",
    "from sklearn.pipeline import Pipeline\n",
    "from sklearn.feature_extraction.text import TfidfTransformer\n",
    "from sklearn.model_selection import GridSearchCV\n",
    "from sklearn.model_selection import RepeatedStratifiedKFold\n",
    "import sklearn.exceptions\n",
    "from sklearn.ensemble import StackingClassifier\n",
    "print(sklearn.__version__)"
   ]
  },
  {
   "cell_type": "code",
   "execution_count": 10,
   "metadata": {},
   "outputs": [],
   "source": [
    "pwd = os.getcwd()\n",
    "dataset = pd.read_csv(pwd+\"/train.csv\")"
   ]
  },
  {
   "cell_type": "code",
   "execution_count": 11,
   "metadata": {},
   "outputs": [],
   "source": [
    "df = dataset.copy()"
   ]
  },
  {
   "cell_type": "code",
   "execution_count": 12,
   "metadata": {},
   "outputs": [
    {
     "data": {
      "text/html": [
       "<div>\n",
       "<style scoped>\n",
       "    .dataframe tbody tr th:only-of-type {\n",
       "        vertical-align: middle;\n",
       "    }\n",
       "\n",
       "    .dataframe tbody tr th {\n",
       "        vertical-align: top;\n",
       "    }\n",
       "\n",
       "    .dataframe thead th {\n",
       "        text-align: right;\n",
       "    }\n",
       "</style>\n",
       "<table border=\"1\" class=\"dataframe\">\n",
       "  <thead>\n",
       "    <tr style=\"text-align: right;\">\n",
       "      <th></th>\n",
       "      <th>tweettextcleaned</th>\n",
       "      <th>sentiment</th>\n",
       "    </tr>\n",
       "  </thead>\n",
       "  <tbody>\n",
       "    <tr>\n",
       "      <th>0</th>\n",
       "      <td>Good afternoon everyone! If anyone has any cha...</td>\n",
       "      <td>2</td>\n",
       "    </tr>\n",
       "    <tr>\n",
       "      <th>1</th>\n",
       "      <td>There are roughly 250 trading days a year - $1...</td>\n",
       "      <td>2</td>\n",
       "    </tr>\n",
       "    <tr>\n",
       "      <th>2</th>\n",
       "      <td>Thanks for the mention, DT! Hagw</td>\n",
       "      <td>2</td>\n",
       "    </tr>\n",
       "    <tr>\n",
       "      <th>3</th>\n",
       "      <td>Thanks Panda Have a great weekend everyone!</td>\n",
       "      <td>2</td>\n",
       "    </tr>\n",
       "    <tr>\n",
       "      <th>4</th>\n",
       "      <td>Thank you for the mention TS! We look forward ...</td>\n",
       "      <td>2</td>\n",
       "    </tr>\n",
       "  </tbody>\n",
       "</table>\n",
       "</div>"
      ],
      "text/plain": [
       "                                    tweettextcleaned  sentiment\n",
       "0  Good afternoon everyone! If anyone has any cha...          2\n",
       "1  There are roughly 250 trading days a year - $1...          2\n",
       "2                   Thanks for the mention, DT! Hagw          2\n",
       "3        Thanks Panda Have a great weekend everyone!          2\n",
       "4  Thank you for the mention TS! We look forward ...          2"
      ]
     },
     "execution_count": 12,
     "metadata": {},
     "output_type": "execute_result"
    }
   ],
   "source": [
    "df.head()"
   ]
  },
  {
   "cell_type": "code",
   "execution_count": 13,
   "metadata": {},
   "outputs": [
    {
     "name": "stdout",
     "output_type": "stream",
     "text": [
      "<class 'pandas.core.frame.DataFrame'>\n",
      "RangeIndex: 1175 entries, 0 to 1174\n",
      "Data columns (total 2 columns):\n",
      " #   Column            Non-Null Count  Dtype \n",
      "---  ------            --------------  ----- \n",
      " 0   tweettextcleaned  1161 non-null   object\n",
      " 1   sentiment         1175 non-null   int64 \n",
      "dtypes: int64(1), object(1)\n",
      "memory usage: 18.5+ KB\n"
     ]
    }
   ],
   "source": [
    "df.info()"
   ]
  },
  {
   "cell_type": "code",
   "execution_count": 14,
   "metadata": {},
   "outputs": [
    {
     "data": {
      "text/plain": [
       "1    464\n",
       "2    435\n",
       "0    276\n",
       "Name: sentiment, dtype: int64"
      ]
     },
     "execution_count": 14,
     "metadata": {},
     "output_type": "execute_result"
    }
   ],
   "source": [
    "df.sentiment.value_counts()"
   ]
  },
  {
   "cell_type": "code",
   "execution_count": 15,
   "metadata": {},
   "outputs": [
    {
     "data": {
      "text/plain": [
       "True"
      ]
     },
     "execution_count": 15,
     "metadata": {},
     "output_type": "execute_result"
    }
   ],
   "source": [
    "df.isnull().values.any()"
   ]
  },
  {
   "cell_type": "code",
   "execution_count": 16,
   "metadata": {},
   "outputs": [
    {
     "data": {
      "text/plain": [
       "2    435\n",
       "0    276\n",
       "Name: sentiment, dtype: int64"
      ]
     },
     "execution_count": 16,
     "metadata": {},
     "output_type": "execute_result"
    }
   ],
   "source": [
    "df = df[df['sentiment']!=1]\n",
    "df.sentiment.value_counts()"
   ]
  },
  {
   "cell_type": "code",
   "execution_count": 17,
   "metadata": {},
   "outputs": [
    {
     "data": {
      "image/png": "[encoded data removed]",
      "text/plain": [
       "<Figure size 432x288 with 1 Axes>"
      ]
     },
     "metadata": {
      "needs_background": "light"
     },
     "output_type": "display_data"
    }
   ],
   "source": [
    "Sentiment_count=df.groupby('sentiment').count()\n",
    "plt.bar(Sentiment_count.index.values, Sentiment_count['tweettextcleaned'])\n",
    "plt.xlabel('Sentiments')\n",
    "plt.ylabel('Number of tweettextcleaned')\n",
    "plt.show()"
   ]
  },
  {
   "cell_type": "code",
   "execution_count": 18,
   "metadata": {},
   "outputs": [],
   "source": [
    "def remove_punctuation(text):\n",
    "    final = \"\".join(u for u in text if u not in (\"?\",\"'\", \".\", \";\", \":\",  \"!\",'\"'))\n",
    "    return final"
   ]
  },
  {
   "cell_type": "code",
   "execution_count": 19,
   "metadata": {},
   "outputs": [],
   "source": [
    "#preprocessing\n",
    "#remove non-alphabetic characters, convert to lowercase, remove stopwords, stemming\n",
    "\n",
    "df['tweettextcleaned'] = df['tweettextcleaned'].apply(remove_punctuation)\n",
    "df['tweettextcleaned'] = df['tweettextcleaned'].str.lower()\n",
    "df['tweettextcleaned'] = df['tweettextcleaned'].str.split()\n",
    "stop_words = set(stopwords.words('english')) \n",
    "df['tweettextcleaned'] = df['tweettextcleaned'].apply(lambda x: \" \".join(x for x in x if x not in stop_words))\n",
    "df['tweettextcleaned'] = df['tweettextcleaned'].apply(lambda x: word_tokenize(x))\n",
    "stemmer = PorterStemmer()\n",
    "df['tweettextcleaned'] = df['tweettextcleaned'].apply(lambda x: [stemmer.stem(y) for y in x])\n",
    "df['tweettextcleaned'] = df['tweettextcleaned'].apply(lambda x: \" \".join(x for x in x))"
   ]
  },
  {
   "cell_type": "code",
   "execution_count": 20,
   "metadata": {},
   "outputs": [],
   "source": [
    "#count vectorizer\n",
    "cv = CountVectorizer(analyzer=lambda x: x) #disable analyzer\n",
    "df['cv'] = cv.fit_transform(df['tweettextcleaned'])"
   ]
  },
  {
   "cell_type": "code",
   "execution_count": 21,
   "metadata": {},
   "outputs": [],
   "source": [
    "#tfidf conversion\n",
    "tfidf_vectorizer=TfidfVectorizer(use_idf=True) \n",
    "df['tfidf']=tfidf_vectorizer.fit_transform(df['tweettextcleaned'])"
   ]
  },
  {
   "cell_type": "code",
   "execution_count": 22,
   "metadata": {},
   "outputs": [
    {
     "data": {
      "text/html": [
       "<div>\n",
       "<style scoped>\n",
       "    .dataframe tbody tr th:only-of-type {\n",
       "        vertical-align: middle;\n",
       "    }\n",
       "\n",
       "    .dataframe tbody tr th {\n",
       "        vertical-align: top;\n",
       "    }\n",
       "\n",
       "    .dataframe thead th {\n",
       "        text-align: right;\n",
       "    }\n",
       "</style>\n",
       "<table border=\"1\" class=\"dataframe\">\n",
       "  <thead>\n",
       "    <tr style=\"text-align: right;\">\n",
       "      <th></th>\n",
       "      <th>tweettextcleaned</th>\n",
       "      <th>sentiment</th>\n",
       "      <th>cv</th>\n",
       "      <th>tfidf</th>\n",
       "      <th>neg</th>\n",
       "      <th>neu</th>\n",
       "      <th>pos</th>\n",
       "      <th>compound</th>\n",
       "    </tr>\n",
       "  </thead>\n",
       "  <tbody>\n",
       "    <tr>\n",
       "      <th>0</th>\n",
       "      <td>good afternoon everyon anyon chart request , q...</td>\n",
       "      <td>2</td>\n",
       "      <td>(0, 28)\\t6\\n  (0, 36)\\t12\\n  (0, 25)\\t4\\n  (...</td>\n",
       "      <td>(0, 1959)\\t0.15168924699448372\\n  (0, 2442)\\...</td>\n",
       "      <td>0.0</td>\n",
       "      <td>0.819</td>\n",
       "      <td>0.181</td>\n",
       "      <td>0.7351</td>\n",
       "    </tr>\n",
       "    <tr>\n",
       "      <th>1</th>\n",
       "      <td>roughli 250 trade day year - $ 100 day = 25k -...</td>\n",
       "      <td>2</td>\n",
       "      <td>(0, 28)\\t6\\n  (0, 36)\\t12\\n  (0, 25)\\t4\\n  (...</td>\n",
       "      <td>(0, 1959)\\t0.15168924699448372\\n  (0, 2442)\\...</td>\n",
       "      <td>0.0</td>\n",
       "      <td>1.000</td>\n",
       "      <td>0.000</td>\n",
       "      <td>0.0000</td>\n",
       "    </tr>\n",
       "    <tr>\n",
       "      <th>2</th>\n",
       "      <td>thank mention , dt hagw</td>\n",
       "      <td>2</td>\n",
       "      <td>(0, 28)\\t6\\n  (0, 36)\\t12\\n  (0, 25)\\t4\\n  (...</td>\n",
       "      <td>(0, 1959)\\t0.15168924699448372\\n  (0, 2442)\\...</td>\n",
       "      <td>0.0</td>\n",
       "      <td>0.545</td>\n",
       "      <td>0.455</td>\n",
       "      <td>0.3612</td>\n",
       "    </tr>\n",
       "    <tr>\n",
       "      <th>3</th>\n",
       "      <td>thank panda great weekend everyon</td>\n",
       "      <td>2</td>\n",
       "      <td>(0, 28)\\t6\\n  (0, 36)\\t12\\n  (0, 25)\\t4\\n  (...</td>\n",
       "      <td>(0, 1959)\\t0.15168924699448372\\n  (0, 2442)\\...</td>\n",
       "      <td>0.0</td>\n",
       "      <td>0.312</td>\n",
       "      <td>0.688</td>\n",
       "      <td>0.7650</td>\n",
       "    </tr>\n",
       "    <tr>\n",
       "      <th>4</th>\n",
       "      <td>thank mention ts look forward show weekend hagw</td>\n",
       "      <td>2</td>\n",
       "      <td>(0, 28)\\t6\\n  (0, 36)\\t12\\n  (0, 25)\\t4\\n  (...</td>\n",
       "      <td>(0, 1959)\\t0.15168924699448372\\n  (0, 2442)\\...</td>\n",
       "      <td>0.0</td>\n",
       "      <td>0.737</td>\n",
       "      <td>0.263</td>\n",
       "      <td>0.3612</td>\n",
       "    </tr>\n",
       "  </tbody>\n",
       "</table>\n",
       "</div>"
      ],
      "text/plain": [
       "                                    tweettextcleaned  sentiment  \\\n",
       "0  good afternoon everyon anyon chart request , q...          2   \n",
       "1  roughli 250 trade day year - $ 100 day = 25k -...          2   \n",
       "2                            thank mention , dt hagw          2   \n",
       "3                  thank panda great weekend everyon          2   \n",
       "4    thank mention ts look forward show weekend hagw          2   \n",
       "\n",
       "                                                  cv  \\\n",
       "0    (0, 28)\\t6\\n  (0, 36)\\t12\\n  (0, 25)\\t4\\n  (...   \n",
       "1    (0, 28)\\t6\\n  (0, 36)\\t12\\n  (0, 25)\\t4\\n  (...   \n",
       "2    (0, 28)\\t6\\n  (0, 36)\\t12\\n  (0, 25)\\t4\\n  (...   \n",
       "3    (0, 28)\\t6\\n  (0, 36)\\t12\\n  (0, 25)\\t4\\n  (...   \n",
       "4    (0, 28)\\t6\\n  (0, 36)\\t12\\n  (0, 25)\\t4\\n  (...   \n",
       "\n",
       "                                               tfidf  neg    neu    pos  \\\n",
       "0    (0, 1959)\\t0.15168924699448372\\n  (0, 2442)\\...  0.0  0.819  0.181   \n",
       "1    (0, 1959)\\t0.15168924699448372\\n  (0, 2442)\\...  0.0  1.000  0.000   \n",
       "2    (0, 1959)\\t0.15168924699448372\\n  (0, 2442)\\...  0.0  0.545  0.455   \n",
       "3    (0, 1959)\\t0.15168924699448372\\n  (0, 2442)\\...  0.0  0.312  0.688   \n",
       "4    (0, 1959)\\t0.15168924699448372\\n  (0, 2442)\\...  0.0  0.737  0.263   \n",
       "\n",
       "   compound  \n",
       "0    0.7351  \n",
       "1    0.0000  \n",
       "2    0.3612  \n",
       "3    0.7650  \n",
       "4    0.3612  "
      ]
     },
     "execution_count": 22,
     "metadata": {},
     "output_type": "execute_result"
    }
   ],
   "source": [
    "#VADER\n",
    "#pre-trained sentiment analyzer\n",
    "vader = SentimentIntensityAnalyzer()\n",
    "# Iterate through the headlines and get the polarity scores using vader\n",
    "scores = df['tweettextcleaned'].apply(vader.polarity_scores).tolist()\n",
    "# Convert the 'scores' list of dicts into a DataFrame\n",
    "scores_df = pd.DataFrame(scores)\n",
    "# Join the DataFrames of the news and the list of dicts\n",
    "df1 = df.join(scores_df, rsuffix='_right')\n",
    "df1.head()"
   ]
  },
  {
   "cell_type": "code",
   "execution_count": 23,
   "metadata": {},
   "outputs": [],
   "source": [
    "tf=TfidfVectorizer()\n",
    "text_tf= tf.fit_transform(df['tweettextcleaned'])\n",
    "X_train, X_test, y_train, y_test = train_test_split(text_tf, df['sentiment'], test_size=0.3, random_state=123)"
   ]
  },
  {
   "cell_type": "code",
   "execution_count": 24,
   "metadata": {},
   "outputs": [
    {
     "name": "stdout",
     "output_type": "stream",
     "text": [
      "Accuracy of  RandomForestClassifier : 0.6214953271028038\n",
      "Classification Report of  RandomForestClassifier :\n",
      "               precision    recall  f1-score   support\n",
      "\n",
      "           0       0.00      0.00      0.00        81\n",
      "           2       0.62      1.00      0.77       133\n",
      "\n",
      "    accuracy                           0.62       214\n",
      "   macro avg       0.31      0.50      0.38       214\n",
      "weighted avg       0.39      0.62      0.48       214\n",
      "\n",
      "Accuracy of  LinearSVC : 0.7757009345794392\n",
      "Classification Report of  LinearSVC :\n",
      "               precision    recall  f1-score   support\n",
      "\n",
      "           0       0.78      0.57      0.66        81\n",
      "           2       0.77      0.90      0.83       133\n",
      "\n",
      "    accuracy                           0.78       214\n",
      "   macro avg       0.78      0.74      0.75       214\n",
      "weighted avg       0.78      0.78      0.77       214\n",
      "\n",
      "Accuracy of  MultinomialNB : 0.7429906542056075\n",
      "Classification Report of  MultinomialNB :\n",
      "               precision    recall  f1-score   support\n",
      "\n",
      "           0       0.91      0.36      0.51        81\n",
      "           2       0.71      0.98      0.83       133\n",
      "\n",
      "    accuracy                           0.74       214\n",
      "   macro avg       0.81      0.67      0.67       214\n",
      "weighted avg       0.79      0.74      0.71       214\n",
      "\n",
      "Accuracy of  LogisticRegression : 0.7383177570093458\n",
      "Classification Report of  LogisticRegression :\n",
      "               precision    recall  f1-score   support\n",
      "\n",
      "           0       0.86      0.37      0.52        81\n",
      "           2       0.72      0.96      0.82       133\n",
      "\n",
      "    accuracy                           0.74       214\n",
      "   macro avg       0.79      0.67      0.67       214\n",
      "weighted avg       0.77      0.74      0.71       214\n",
      "\n"
     ]
    },
    {
     "name": "stderr",
     "output_type": "stream",
     "text": [
      "C:\\Users\\phoec\\anaconda3\\lib\\site-packages\\sklearn\\metrics\\_classification.py:1245: UndefinedMetricWarning: Precision and F-score are ill-defined and being set to 0.0 in labels with no predicted samples. Use `zero_division` parameter to control this behavior.\n",
      "  _warn_prf(average, modifier, msg_start, len(result))\n",
      "C:\\Users\\phoec\\anaconda3\\lib\\site-packages\\sklearn\\metrics\\_classification.py:1245: UndefinedMetricWarning: Precision and F-score are ill-defined and being set to 0.0 in labels with no predicted samples. Use `zero_division` parameter to control this behavior.\n",
      "  _warn_prf(average, modifier, msg_start, len(result))\n",
      "C:\\Users\\phoec\\anaconda3\\lib\\site-packages\\sklearn\\metrics\\_classification.py:1245: UndefinedMetricWarning: Precision and F-score are ill-defined and being set to 0.0 in labels with no predicted samples. Use `zero_division` parameter to control this behavior.\n",
      "  _warn_prf(average, modifier, msg_start, len(result))\n"
     ]
    },
    {
     "name": "stdout",
     "output_type": "stream",
     "text": [
      "Accuracy of  DecisionTreeClassifier : 0.7429906542056075\n",
      "Classification Report of  DecisionTreeClassifier :\n",
      "               precision    recall  f1-score   support\n",
      "\n",
      "           0       0.70      0.57      0.63        81\n",
      "           2       0.76      0.85      0.80       133\n",
      "\n",
      "    accuracy                           0.74       214\n",
      "   macro avg       0.73      0.71      0.72       214\n",
      "weighted avg       0.74      0.74      0.74       214\n",
      "\n",
      "Accuracy of  GradientBoostingClassifier : 0.7897196261682243\n",
      "Classification Report of  GradientBoostingClassifier :\n",
      "               precision    recall  f1-score   support\n",
      "\n",
      "           0       0.83      0.56      0.67        81\n",
      "           2       0.78      0.93      0.85       133\n",
      "\n",
      "    accuracy                           0.79       214\n",
      "   macro avg       0.80      0.74      0.76       214\n",
      "weighted avg       0.80      0.79      0.78       214\n",
      "\n",
      "Accuracy of  KNeighborsClassifier : 0.7336448598130841\n",
      "Classification Report of  KNeighborsClassifier :\n",
      "               precision    recall  f1-score   support\n",
      "\n",
      "           0       0.69      0.53      0.60        81\n",
      "           2       0.75      0.86      0.80       133\n",
      "\n",
      "    accuracy                           0.73       214\n",
      "   macro avg       0.72      0.69      0.70       214\n",
      "weighted avg       0.73      0.73      0.72       214\n",
      "\n",
      "model_name\n",
      "DecisionTreeClassifier        0.683670\n",
      "GradientBoostingClassifier    0.744154\n",
      "KNeighborsClassifier          0.672402\n",
      "LinearSVC                     0.713247\n",
      "LogisticRegression            0.699035\n",
      "MultinomialNB                 0.710391\n",
      "RandomForestClassifier        0.617414\n",
      "Name: accuracy, dtype: float64\n",
      "                    model_name  fold_idx  accuracy\n",
      "0       RandomForestClassifier         0  0.636364\n",
      "1       RandomForestClassifier         1  0.612676\n",
      "2       RandomForestClassifier         2  0.612676\n",
      "3       RandomForestClassifier         3  0.612676\n",
      "4       RandomForestClassifier         4  0.612676\n",
      "5                    LinearSVC         0  0.594406\n",
      "6                    LinearSVC         1  0.669014\n",
      "7                    LinearSVC         2  0.619718\n",
      "8                    LinearSVC         3  0.823944\n",
      "9                    LinearSVC         4  0.859155\n",
      "10               MultinomialNB         0  0.622378\n",
      "11               MultinomialNB         1  0.619718\n",
      "12               MultinomialNB         2  0.612676\n",
      "13               MultinomialNB         3  0.880282\n",
      "14               MultinomialNB         4  0.816901\n",
      "15          LogisticRegression         0  0.685315\n",
      "16          LogisticRegression         1  0.619718\n",
      "17          LogisticRegression         2  0.612676\n",
      "18          LogisticRegression         3  0.746479\n",
      "19          LogisticRegression         4  0.830986\n",
      "20      DecisionTreeClassifier         0  0.594406\n",
      "21      DecisionTreeClassifier         1  0.612676\n",
      "22      DecisionTreeClassifier         2  0.584507\n",
      "23      DecisionTreeClassifier         3  0.830986\n",
      "24      DecisionTreeClassifier         4  0.795775\n",
      "25  GradientBoostingClassifier         0  0.650350\n",
      "26  GradientBoostingClassifier         1  0.669014\n",
      "27  GradientBoostingClassifier         2  0.605634\n",
      "28  GradientBoostingClassifier         3  0.964789\n",
      "29  GradientBoostingClassifier         4  0.830986\n",
      "30        KNeighborsClassifier         0  0.594406\n",
      "31        KNeighborsClassifier         1  0.640845\n",
      "32        KNeighborsClassifier         2  0.584507\n",
      "33        KNeighborsClassifier         3  0.809859\n",
      "34        KNeighborsClassifier         4  0.732394\n"
     ]
    }
   ],
   "source": [
    "models = [\n",
    "    RandomForestClassifier(n_estimators=200, max_depth=3, random_state=0),\n",
    "    LinearSVC(),\n",
    "    MultinomialNB(),\n",
    "    LogisticRegression(random_state=0),\n",
    "    DecisionTreeClassifier(),\n",
    "    GradientBoostingClassifier(),\n",
    "    KNeighborsClassifier(n_neighbors=7)\n",
    "]\n",
    "CV = 5\n",
    "cv_df = pd.DataFrame(index=range(CV * len(models)))\n",
    "entries = []\n",
    "for model in models:\n",
    "    model_name = model.__class__.__name__\n",
    "    model.fit(X_train,y_train)\n",
    "    predicted= model.predict(X_test)\n",
    "    accuracies = cross_val_score(model, text_tf, df['sentiment'], scoring='accuracy', cv=CV)\n",
    "    for fold_idx, accuracy in enumerate(accuracies):\n",
    "        entries.append((model_name, fold_idx, accuracy))\n",
    "    print(\"Accuracy of \",model_name,\":\",metrics.accuracy_score(y_test, predicted))\n",
    "    print(\"Classification Report of \",model_name,\":\\n\",classification_report(y_test,predicted))\n",
    "cv_df = pd.DataFrame(entries, columns=['model_name', 'fold_idx', 'accuracy'])\n",
    "print(cv_df.groupby('model_name').accuracy.mean())\n",
    "print(cv_df)"
   ]
  },
  {
   "cell_type": "code",
   "execution_count": 25,
   "metadata": {},
   "outputs": [
    {
     "data": {
      "image/png": "[encoded data removed]",
      "text/plain": [
       "<Figure size 432x288 with 1 Axes>"
      ]
     },
     "metadata": {
      "needs_background": "light"
     },
     "output_type": "display_data"
    }
   ],
   "source": [
    "import seaborn as sns\n",
    "sns.boxplot(x='model_name', y='accuracy', data=cv_df)\n",
    "sns.stripplot(x='model_name', y='accuracy', data=cv_df, \n",
    "              size=8, jitter=True, edgecolor=\"gray\", linewidth=2)\n",
    "plt.xticks(rotation=45)\n",
    "plt.show()"
   ]
  },
  {
   "cell_type": "markdown",
   "metadata": {},
   "source": [
    "## Logistic Regression"
   ]
  },
  {
   "cell_type": "code",
   "execution_count": 26,
   "metadata": {},
   "outputs": [
    {
     "name": "stderr",
     "output_type": "stream",
     "text": [
      "C:\\Users\\phoec\\anaconda3\\lib\\site-packages\\sklearn\\model_selection\\_search.py:289: UserWarning: The total space of parameters 45 is smaller than n_iter=200. Running 45 iterations. For exhaustive searches, use GridSearchCV.\n",
      "  % (grid_size, self.n_iter, grid_size), UserWarning)\n"
     ]
    },
    {
     "name": "stdout",
     "output_type": "stream",
     "text": [
      "Best Trainset Accuracy: 78.07% using {'solver': 'newton-cg', 'penalty': 'l2', 'C': 10}\n",
      "Testset Accuracy: 78.04% \n",
      "Classification Report of  LogisticRegression :\n",
      "               precision    recall  f1-score   support\n",
      "\n",
      "           0       0.79      0.57      0.66        81\n",
      "           2       0.78      0.91      0.84       133\n",
      "\n",
      "    accuracy                           0.78       214\n",
      "   macro avg       0.78      0.74      0.75       214\n",
      "weighted avg       0.78      0.78      0.77       214\n",
      "\n",
      "Accuracy of LogisticRegression : 0.780373831775701\n"
     ]
    }
   ],
   "source": [
    "model = LogisticRegression()\n",
    "model_name = model.__class__.__name__\n",
    "solvers = ['newton-cg', 'lbfgs', 'liblinear']\n",
    "penalty = ['l1', 'l2', 'elasticnet']\n",
    "c_values = [100, 10, 1.0, 0.1, 0.01]\n",
    "grid = dict(solver=solvers,penalty=penalty,C=c_values)\n",
    "classifier = RandomizedSearchCV(model, grid, cv=5, n_iter=200, random_state=0,scoring='accuracy', error_score=0, n_jobs=-1)\n",
    "grid_search = classifier.fit(X_train, y_train)\n",
    "y_train_pred = grid_search.predict(X_train)\n",
    "y_test_pred = grid_search.predict(X_test)\n",
    "print(\"Best Trainset Accuracy: %.2f%% using %s\" % (grid_search.best_score_*100,grid_search.best_params_))\n",
    "print(\"Testset Accuracy: %.2f%% \" % (accuracy_score(y_test, y_test_pred)*100))\n",
    "print(\"Classification Report of \",model_name,\":\\n\",classification_report(y_test,y_test_pred))\n",
    "print(\"Accuracy of\",model_name,\":\",metrics.accuracy_score(y_test, y_test_pred))"
   ]
  },
  {
   "cell_type": "markdown",
   "metadata": {},
   "source": [
    "## Decision Tree"
   ]
  },
  {
   "cell_type": "code",
   "execution_count": 27,
   "metadata": {},
   "outputs": [
    {
     "name": "stdout",
     "output_type": "stream",
     "text": [
      "Best Trainset Accuracy: 73.04% using {'min_samples_split': 7, 'min_samples_leaf': 2, 'max_features': 'auto', 'max_depth': 94, 'criterion': 'entropy'}\n",
      "Testset Accuracy: 72.43% \n",
      "Classification Report of  DecisionTreeClassifier :\n",
      "               precision    recall  f1-score   support\n",
      "\n",
      "           0       0.66      0.57      0.61        81\n",
      "           2       0.76      0.82      0.79       133\n",
      "\n",
      "    accuracy                           0.72       214\n",
      "   macro avg       0.71      0.69      0.70       214\n",
      "weighted avg       0.72      0.72      0.72       214\n",
      "\n",
      "Accuracy of DecisionTreeClassifier : 0.7242990654205608\n"
     ]
    }
   ],
   "source": [
    "model = DecisionTreeClassifier()\n",
    "model_name = model.__class__.__name__\n",
    "max_features = ['auto', 'sqrt']\n",
    "max_depth = list(range(2,100))\n",
    "max_depth.append(None)\n",
    "min_samples_split = list(range(1, 16))\n",
    "min_samples_leaf = list(range(1, 16))\n",
    "criterion = [\"gini\", \"entropy\"]\n",
    "grid = {'max_features': max_features,\n",
    "        'max_depth': max_depth,\n",
    "        'min_samples_split': min_samples_split,\n",
    "        'min_samples_leaf': min_samples_leaf,\n",
    "        'criterion': criterion}\n",
    "classifier = RandomizedSearchCV(model, grid, cv=5, n_iter=200, random_state=0,scoring='accuracy', error_score=0, n_jobs=-1)\n",
    "grid_search = classifier.fit(X_train, y_train)\n",
    "y_train_pred = grid_search.predict(X_train)\n",
    "y_test_pred = grid_search.predict(X_test)\n",
    "print(\"Best Trainset Accuracy: %.2f%% using %s\" % (grid_search.best_score_*100,grid_search.best_params_))\n",
    "print(\"Testset Accuracy: %.2f%% \" % (accuracy_score(y_test, y_test_pred)*100))\n",
    "print(\"Classification Report of \",model_name,\":\\n\",classification_report(y_test,y_test_pred))\n",
    "print(\"Accuracy of\",model_name,\":\",metrics.accuracy_score(y_test, y_test_pred))"
   ]
  },
  {
   "cell_type": "markdown",
   "metadata": {},
   "source": [
    "## Random Forest"
   ]
  },
  {
   "cell_type": "code",
   "execution_count": 28,
   "metadata": {},
   "outputs": [
    {
     "name": "stdout",
     "output_type": "stream",
     "text": [
      "Best Trainset Accuracy: 78.07% using {'n_estimators': 150, 'min_samples_split': 13, 'min_samples_leaf': 2, 'max_features': 'auto', 'max_depth': 50, 'criterion': 'entropy', 'bootstrap': False}\n",
      "Testset Accuracy: 81.31% \n",
      "Classification Report of  RandomForestClassifier :\n",
      "               precision    recall  f1-score   support\n",
      "\n",
      "           0       0.87      0.59      0.71        81\n",
      "           2       0.79      0.95      0.86       133\n",
      "\n",
      "    accuracy                           0.81       214\n",
      "   macro avg       0.83      0.77      0.78       214\n",
      "weighted avg       0.82      0.81      0.80       214\n",
      "\n",
      "Accuracy of RandomForestClassifier : 0.8130841121495327\n"
     ]
    }
   ],
   "source": [
    "model = RandomForestClassifier()\n",
    "model_name = model.__class__.__name__\n",
    "n_estimators = [int(x) for x in np.linspace(start = 50, stop = 150, num = 3)]\n",
    "max_features = ['auto', 'sqrt']\n",
    "max_depth = [5,20,50, None]\n",
    "min_samples_split = list(range(1, 16))\n",
    "min_samples_leaf = list(range(1, 16))\n",
    "bootstrap = [True, False]\n",
    "criterion = [\"gini\", \"entropy\"]\n",
    "grid = {'n_estimators': n_estimators,\n",
    "        'max_features': max_features,\n",
    "        'max_depth': max_depth,\n",
    "        'min_samples_split': min_samples_split,\n",
    "        'min_samples_leaf': min_samples_leaf,\n",
    "        'bootstrap': bootstrap,\n",
    "        'criterion': criterion}\n",
    "classifier = RandomizedSearchCV(model, grid, cv=5, n_iter=200, random_state=0,scoring='accuracy', error_score=0, n_jobs=-1)\n",
    "grid_search = classifier.fit(X_train, y_train)\n",
    "y_train_pred = grid_search.predict(X_train)\n",
    "y_test_pred = grid_search.predict(X_test)\n",
    "print(\"Best Trainset Accuracy: %.2f%% using %s\" % (grid_search.best_score_*100,grid_search.best_params_))\n",
    "print(\"Testset Accuracy: %.2f%% \" % (accuracy_score(y_test, y_test_pred)*100))\n",
    "print(\"Classification Report of \",model_name,\":\\n\",classification_report(y_test,y_test_pred))\n",
    "print(\"Accuracy of\",model_name,\":\",metrics.accuracy_score(y_test, y_test_pred))"
   ]
  },
  {
   "cell_type": "markdown",
   "metadata": {},
   "source": [
    "## XGBoost"
   ]
  },
  {
   "cell_type": "code",
   "execution_count": 29,
   "metadata": {},
   "outputs": [
    {
     "name": "stdout",
     "output_type": "stream",
     "text": [
      "Best Trainset Accuracy: 77.26% using {'n_estimators': 100, 'min_samples_split': 8, 'min_samples_leaf': 1, 'max_features': 'sqrt', 'max_depth': 20, 'learning_rate': 0.05}\n",
      "Testset Accuracy: 82.24% \n",
      "Classification Report of  GradientBoostingClassifier :\n",
      "               precision    recall  f1-score   support\n",
      "\n",
      "           0       0.91      0.59      0.72        81\n",
      "           2       0.80      0.96      0.87       133\n",
      "\n",
      "    accuracy                           0.82       214\n",
      "   macro avg       0.85      0.78      0.79       214\n",
      "weighted avg       0.84      0.82      0.81       214\n",
      "\n",
      "Accuracy of GradientBoostingClassifier : 0.822429906542056\n"
     ]
    }
   ],
   "source": [
    "model = GradientBoostingClassifier()\n",
    "model_name = model.__class__.__name__\n",
    "n_estimators = [int(x) for x in np.linspace(start = 50, stop = 150, num = 3)]\n",
    "learning_rate = [1, 0.5, 0.25, 0.1, 0.05, 0.01]\n",
    "max_depth = [5,20,50, None]\n",
    "min_samples_split = list(range(1, 16))\n",
    "min_samples_leaf = list(range(1, 16))\n",
    "max_features = ['auto', 'sqrt']\n",
    "grid = {'n_estimators': n_estimators,\n",
    "        'learning_rate': learning_rate,\n",
    "        'max_depth': max_depth,\n",
    "        'min_samples_split': min_samples_split,\n",
    "        'min_samples_leaf': min_samples_leaf,\n",
    "        'max_features': max_features}\n",
    "classifier = RandomizedSearchCV(model, grid, cv=5, n_iter=200, random_state=0,scoring='accuracy', error_score=0, n_jobs=-1)\n",
    "grid_search = classifier.fit(X_train, y_train)\n",
    "y_train_pred = grid_search.predict(X_train)\n",
    "y_test_pred = grid_search.predict(X_test)\n",
    "print(\"Best Trainset Accuracy: %.2f%% using %s\" % (grid_search.best_score_*100,grid_search.best_params_))\n",
    "print(\"Testset Accuracy: %.2f%% \" % (accuracy_score(y_test, y_test_pred)*100))\n",
    "print(\"Classification Report of \",model_name,\":\\n\",classification_report(y_test,y_test_pred))\n",
    "print(\"Accuracy of\",model_name,\":\",metrics.accuracy_score(y_test, y_test_pred))"
   ]
  },
  {
   "cell_type": "markdown",
   "metadata": {},
   "source": [
    "## Linear SVC"
   ]
  },
  {
   "cell_type": "code",
   "execution_count": 30,
   "metadata": {},
   "outputs": [
    {
     "name": "stdout",
     "output_type": "stream",
     "text": [
      "Testset Accuracy: 77.57% \n",
      "Classification Report of  LinearSVC :\n",
      "               precision    recall  f1-score   support\n",
      "\n",
      "           0       0.78      0.57      0.66        81\n",
      "           2       0.77      0.90      0.83       133\n",
      "\n",
      "    accuracy                           0.78       214\n",
      "   macro avg       0.78      0.74      0.75       214\n",
      "weighted avg       0.78      0.78      0.77       214\n",
      "\n",
      "Accuracy of LinearSVC : 0.7757009345794392\n"
     ]
    }
   ],
   "source": [
    "model = LinearSVC()\n",
    "model_name = model.__class__.__name__\n",
    "model.fit(X_train,y_train)\n",
    "y_train_pred = model.predict(X_train)\n",
    "y_test_pred = model.predict(X_test)\n",
    "print(\"Testset Accuracy: %.2f%% \" % (accuracy_score(y_test, y_test_pred)*100))\n",
    "print(\"Classification Report of \",model_name,\":\\n\",classification_report(y_test,y_test_pred))\n",
    "print(\"Accuracy of\",model_name,\":\",metrics.accuracy_score(y_test, y_test_pred))"
   ]
  },
  {
   "cell_type": "markdown",
   "metadata": {},
   "source": [
    "## Naive Bayes"
   ]
  },
  {
   "cell_type": "code",
   "execution_count": 31,
   "metadata": {},
   "outputs": [
    {
     "name": "stdout",
     "output_type": "stream",
     "text": [
      "Best Trainset Accuracy: 62.17% using {'class_prior': [2.5754700465357114, 1.5562146010142799]}\n",
      "Testset Accuracy: 65.42% \n",
      "Classification Report of  MultinomialNB :\n",
      "               precision    recall  f1-score   support\n",
      "\n",
      "           0       0.53      0.85      0.65        81\n",
      "           2       0.86      0.53      0.66       133\n",
      "\n",
      "    accuracy                           0.65       214\n",
      "   macro avg       0.69      0.69      0.65       214\n",
      "weighted avg       0.73      0.65      0.65       214\n",
      "\n",
      "Accuracy of MultinomialNB : 0.6542056074766355\n"
     ]
    },
    {
     "name": "stderr",
     "output_type": "stream",
     "text": [
      "C:\\Users\\phoec\\anaconda3\\lib\\site-packages\\sklearn\\model_selection\\_search.py:289: UserWarning: The total space of parameters 1 is smaller than n_iter=10. Running 1 iterations. For exhaustive searches, use GridSearchCV.\n",
      "  % (grid_size, self.n_iter, grid_size), UserWarning)\n"
     ]
    }
   ],
   "source": [
    "model = MultinomialNB()\n",
    "model_name = model.__class__.__name__\n",
    "tuned_parameters = {'class_prior': [[uniform.rvs(0,3), uniform.rvs(0,3)]]}\n",
    "model = RandomizedSearchCV(MultinomialNB(), tuned_parameters, cv=5, \n",
    "scoring='f1_micro', n_iter=10)\n",
    "grid_search = model.fit(X_train,y_train)\n",
    "y_train_pred = grid_search.predict(X_train)\n",
    "y_test_pred = grid_search.predict(X_test)\n",
    "print(\"Best Trainset Accuracy: %.2f%% using %s\" % (grid_search.best_score_*100,grid_search.best_params_))\n",
    "print(\"Testset Accuracy: %.2f%% \" % (accuracy_score(y_test, y_test_pred)*100))\n",
    "print(\"Classification Report of \",model_name,\":\\n\",classification_report(y_test,y_test_pred))\n",
    "print(\"Accuracy of\",model_name,\":\",metrics.accuracy_score(y_test, y_test_pred))"
   ]
  },
  {
   "cell_type": "code",
   "execution_count": 32,
   "metadata": {},
   "outputs": [],
   "source": [
    "def create_stacking_models():\n",
    "    base_models = list()\n",
    "    base_models.append(('KNNC', KNeighborsClassifier(n_neighbors = 7))) \n",
    "    base_models.append(('XGB', GradientBoostingClassifier(min_samples_split= 11, min_samples_leaf= 1, max_features= 'sqrt', max_depth= 65)))\n",
    "    base_models.append(('RF', RandomForestClassifier(n_estimators= 100, min_samples_split= 10, min_samples_leaf= 2, max_features= 'sqrt', max_depth= 50, criterion= 'entropy', bootstrap= False)))\n",
    "    base_models.append(('DT', DecisionTreeClassifier(min_samples_split= 11, min_samples_leaf= 1, max_features= 'sqrt', max_depth= 65, criterion= 'entropy')))\n",
    "    base_models.append(('MNB', MultinomialNB()))\n",
    "    base_models.append(('LSVC', LinearSVC())) \n",
    "    meta_model = LogisticRegression(solver='newton-cg', penalty= 'l2', C= 10)\n",
    "    final_model = StackingClassifier(estimators = base_models,final_estimator = meta_model,cv = 5)\n",
    "    return final_model\n",
    "\n",
    "def models_all():\n",
    "    all_models = dict()\n",
    "    all_models['KNNC']= KNeighborsClassifier(n_neighbors = 7)\n",
    "    all_models['XGBoost']= GradientBoostingClassifier(min_samples_split= 11, min_samples_leaf= 1, max_features= 'sqrt', max_depth= 65)\n",
    "    all_models['RF']= RandomForestClassifier(n_estimators= 100, min_samples_split= 10, min_samples_leaf= 2, max_features= 'sqrt', max_depth= 50, criterion= 'entropy', bootstrap= False)\n",
    "    all_models['DT'] = DecisionTreeClassifier(min_samples_split= 11, min_samples_leaf= 1, max_features= 'sqrt', max_depth= 65, criterion= 'entropy')\n",
    "    all_models['MultinomialNB'] = MultinomialNB()\n",
    "    all_models['LinearSVC'] = LinearSVC()\n",
    "    all_models['Stacking'] = create_stacking_models()\n",
    "    return all_models\n",
    "\n",
    "def evaluate_model(model):\n",
    "    cv = RepeatedStratifiedKFold(n_splits=10, n_repeats=3, random_state=42)\n",
    "    scores = cross_val_score(model, text_tf, df['sentiment'], scoring='f1_weighted', cv=cv, error_score='raise')\n",
    "    return scores"
   ]
  },
  {
   "cell_type": "code",
   "execution_count": 33,
   "metadata": {
    "tags": []
   },
   "outputs": [
    {
     "name": "stdout",
     "output_type": "stream",
     "text": [
      ">KNNC 0.723 (0.050) \n",
      "\n",
      ">XGBoost 0.762 (0.050) \n",
      "\n",
      ">RF 0.766 (0.056) \n",
      "\n",
      ">DT 0.701 (0.058) \n",
      "\n",
      ">MultinomialNB 0.720 (0.058) \n",
      "\n",
      ">LinearSVC 0.755 (0.059) \n",
      "\n",
      ">Stacking 0.764 (0.060) \n",
      "\n"
     ]
    }
   ],
   "source": [
    "model_results = list()\n",
    "models = models_all()\n",
    "names = list()\n",
    "\n",
    "# Create a for loop that iterates over each name, model in models dictionary \n",
    "for name, model in models.items():\n",
    "    scores = evaluate_model(model)\n",
    "    model_results.append(scores)\n",
    "    names.append(name)\n",
    "    print('>%s %.3f (%.3f) \\n' % (name, np.mean(scores), np.std(scores)))"
   ]
  },
  {
   "cell_type": "code",
   "execution_count": 34,
   "metadata": {},
   "outputs": [
    {
     "data": {
      "image/png": "[encoded data removed]",
      "text/plain": [
       "<Figure size 432x288 with 1 Axes>"
      ]
     },
     "metadata": {
      "needs_background": "light"
     },
     "output_type": "display_data"
    }
   ],
   "source": [
    "from matplotlib import pyplot\n",
    "pyplot.boxplot(model_results, labels=names, showmeans=True)\n",
    "pyplot.show()"
   ]
  },
  {
   "cell_type": "code",
   "execution_count": 35,
   "metadata": {},
   "outputs": [
    {
     "name": "stdout",
     "output_type": "stream",
     "text": [
      "Testset Accuracy: 78.04% \n",
      "Classification Report of  MultinomialNB :\n",
      "               precision    recall  f1-score   support\n",
      "\n",
      "           0       0.75      0.63      0.68        81\n",
      "           2       0.79      0.87      0.83       133\n",
      "\n",
      "    accuracy                           0.78       214\n",
      "   macro avg       0.77      0.75      0.76       214\n",
      "weighted avg       0.78      0.78      0.78       214\n",
      "\n",
      "Accuracy of stacking model : 0.780373831775701\n"
     ]
    }
   ],
   "source": [
    "model = create_stacking_models()\n",
    "grid_search = model.fit(X_train,y_train)\n",
    "y_train_pred = grid_search.predict(X_train)\n",
    "y_test_pred = grid_search.predict(X_test)\n",
    "print(\"Testset Accuracy: %.2f%% \" % (accuracy_score(y_test, y_test_pred)*100))\n",
    "print(\"Classification Report of \",model_name,\":\\n\",classification_report(y_test,y_test_pred))\n",
    "print(\"Accuracy of stacking model\",\":\",metrics.accuracy_score(y_test, y_test_pred))"
   ]
  },
  {
   "cell_type": "code",
   "execution_count": null,
   "metadata": {},
   "outputs": [],
   "source": [
    "#model with best parameters, some not used as there exists hyperparameter errors such as min_samples_split not found\n",
    "# KNeighborsClassifier(n_neighbors=7)\n",
    "# LogisticRegression(solver='newton-cg', penalty= 'l2', C= 10)\n",
    "# DecisionTreeClassifier(min_samples_split= 11, min_samples_leaf= 1, max_features= 'sqrt', max_depth= 65, criterion= 'entropy')\n",
    "# RandomForestClassifier(n_estimators= 100, min_samples_split= 10, min_samples_leaf= 2, max_features= 'sqrt', max_depth= 50, criterion= 'entropy', bootstrap= False)\n",
    "# GradientBoostingClassifier(min_samples_split= 11, min_samples_leaf= 1, max_features= 'sqrt', max_depth= 65, criterion= 'entropy')\n",
    "# LinearSVC()\n",
    "# MultinomialNB(n_estimators= 50, min_samples_split= 9, min_samples_leaf= 1, max_features= 'sqrt', max_depth= 50, learning_rate= 0.05)"
   ]
  },
  {
   "cell_type": "code",
   "execution_count": null,
   "metadata": {},
   "outputs": [],
   "source": []
  }
 ],
 "metadata": {
  "kernelspec": {
   "display_name": "Python 3",
   "language": "python",
   "name": "python3"
  },
  "language_info": {
   "codemirror_mode": {
    "name": "ipython",
    "version": 3
   },
   "file_extension": ".py",
   "mimetype": "text/x-python",
   "name": "python",
   "nbconvert_exporter": "python",
   "pygments_lexer": "ipython3",
   "version": "3.7.6"
  }
 },
 "nbformat": 4,
 "nbformat_minor": 2
}
